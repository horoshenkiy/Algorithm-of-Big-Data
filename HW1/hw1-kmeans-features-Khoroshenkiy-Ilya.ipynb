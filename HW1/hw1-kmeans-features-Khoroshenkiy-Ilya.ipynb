{
 "cells": [
  {
   "cell_type": "markdown",
   "metadata": {},
   "source": [
    "# Алгоритмы интеллектуальной обработки больших объемов данных\n",
    "## Домашнее задание №1 - Метод k-средних, предобработка признаков\n"
   ]
  },
  {
   "cell_type": "markdown",
   "metadata": {},
   "source": [
    "###### <hr\\>\n",
    "**Общая информация**\n",
    "\n",
    "**Срок сдачи:** 6 марта 2017, 06:00 <br\\>\n",
    "**Штраф за опоздание:** -2 балла после 06:00 6 марта, -4 балла после 06:00 13 марта, -6 баллов после 06:00 20 марта\n",
    "\n",
    "При отправлении ДЗ указывайте фамилию в названии файла<br\\>\n",
    "\n",
    "Используйте данный Ipython Notebook при оформлении домашнего задания.\n",
    "<hr\\>"
   ]
  },
  {
   "cell_type": "markdown",
   "metadata": {},
   "source": [
    "# Первое задание - указать фамилию в имени файла"
   ]
  },
  {
   "cell_type": "code",
   "execution_count": 1,
   "metadata": {
    "collapsed": true
   },
   "outputs": [],
   "source": [
    "import pandas as pd\n",
    "import numpy as np\n",
    "import matplotlib.pyplot as plt\n",
    "\n",
    "%matplotlib inline\n",
    "\n",
    "plt.style.use('ggplot')\n",
    "plt.rcParams['figure.figsize'] = (12,5)"
   ]
  },
  {
   "cell_type": "markdown",
   "metadata": {},
   "source": [
    "# Пролог: Модуль sklearn\n",
    "На наших практических занятиях мы будем использовать [sklearn](http://scikit-learn.org/stable/index.html) (scikit-learn) - наиболее популярный модуль для работы с методами машинного обучения и анализа данных.\n",
    "\n",
    "Этот модуль регулярно обновляется, расширяется и сопровождается примерами использования тех или иных методов. Помимо самих алгоритмов (например k-средних или линейной регрессии) в нем есть множество вспомогательных функций по работе с данными."
   ]
  },
  {
   "cell_type": "markdown",
   "metadata": {},
   "source": [
    "# Туториал: Работа с различными типами признаков"
   ]
  },
  {
   "cell_type": "markdown",
   "metadata": {},
   "source": [
    "Вспомним какие типы признаков могут встретится при описании объектов исследования и как их представить в доступной для обработки компьтером форме"
   ]
  },
  {
   "cell_type": "markdown",
   "metadata": {},
   "source": [
    "Типы признаков мы будем рассматривать на примере довольно популярного набора данных [titanic](https://www.kaggle.com/c/titanic/download/train.csv) - информации о выживаемости пассажиров после известной трагедии корабля Titanic."
   ]
  },
  {
   "cell_type": "raw",
   "metadata": {},
   "source": [
    "ARIABLE DESCRIPTIONS:\n",
    "survival        Survival\n",
    "                (0 = No; 1 = Yes)\n",
    "pclass          Passenger Class\n",
    "                (1 = 1st; 2 = 2nd; 3 = 3rd)\n",
    "name            Name\n",
    "sex             Sex\n",
    "age             Age\n",
    "sibsp           Number of Siblings/Spouses Aboard\n",
    "parch           Number of Parents/Children Aboard\n",
    "ticket          Ticket Number\n",
    "fare            Passenger Fare\n",
    "cabin           Cabin\n",
    "embarked        Port of Embarkation\n",
    "                (C = Cherbourg; Q = Queenstown; S = Southampton)"
   ]
  },
  {
   "cell_type": "code",
   "execution_count": 6,
   "metadata": {
    "collapsed": false
   },
   "outputs": [
    {
     "data": {
      "text/html": [
       "<div>\n",
       "<table border=\"1\" class=\"dataframe\">\n",
       "  <thead>\n",
       "    <tr style=\"text-align: right;\">\n",
       "      <th></th>\n",
       "      <th>PassengerId</th>\n",
       "      <th>Survived</th>\n",
       "      <th>Pclass</th>\n",
       "      <th>Name</th>\n",
       "      <th>Sex</th>\n",
       "      <th>Age</th>\n",
       "      <th>SibSp</th>\n",
       "      <th>Parch</th>\n",
       "      <th>Ticket</th>\n",
       "      <th>Fare</th>\n",
       "      <th>Cabin</th>\n",
       "      <th>Embarked</th>\n",
       "    </tr>\n",
       "  </thead>\n",
       "  <tbody>\n",
       "    <tr>\n",
       "      <th>1</th>\n",
       "      <td>2</td>\n",
       "      <td>1</td>\n",
       "      <td>1</td>\n",
       "      <td>Cumings, Mrs. John Bradley (Florence Briggs Th...</td>\n",
       "      <td>female</td>\n",
       "      <td>38.0</td>\n",
       "      <td>1</td>\n",
       "      <td>0</td>\n",
       "      <td>PC 17599</td>\n",
       "      <td>71.2833</td>\n",
       "      <td>C85</td>\n",
       "      <td>C</td>\n",
       "    </tr>\n",
       "    <tr>\n",
       "      <th>3</th>\n",
       "      <td>4</td>\n",
       "      <td>1</td>\n",
       "      <td>1</td>\n",
       "      <td>Futrelle, Mrs. Jacques Heath (Lily May Peel)</td>\n",
       "      <td>female</td>\n",
       "      <td>35.0</td>\n",
       "      <td>1</td>\n",
       "      <td>0</td>\n",
       "      <td>113803</td>\n",
       "      <td>53.1000</td>\n",
       "      <td>C123</td>\n",
       "      <td>S</td>\n",
       "    </tr>\n",
       "    <tr>\n",
       "      <th>6</th>\n",
       "      <td>7</td>\n",
       "      <td>0</td>\n",
       "      <td>1</td>\n",
       "      <td>McCarthy, Mr. Timothy J</td>\n",
       "      <td>male</td>\n",
       "      <td>54.0</td>\n",
       "      <td>0</td>\n",
       "      <td>0</td>\n",
       "      <td>17463</td>\n",
       "      <td>51.8625</td>\n",
       "      <td>E46</td>\n",
       "      <td>S</td>\n",
       "    </tr>\n",
       "    <tr>\n",
       "      <th>10</th>\n",
       "      <td>11</td>\n",
       "      <td>1</td>\n",
       "      <td>3</td>\n",
       "      <td>Sandstrom, Miss. Marguerite Rut</td>\n",
       "      <td>female</td>\n",
       "      <td>4.0</td>\n",
       "      <td>1</td>\n",
       "      <td>1</td>\n",
       "      <td>PP 9549</td>\n",
       "      <td>16.7000</td>\n",
       "      <td>G6</td>\n",
       "      <td>S</td>\n",
       "    </tr>\n",
       "    <tr>\n",
       "      <th>11</th>\n",
       "      <td>12</td>\n",
       "      <td>1</td>\n",
       "      <td>1</td>\n",
       "      <td>Bonnell, Miss. Elizabeth</td>\n",
       "      <td>female</td>\n",
       "      <td>58.0</td>\n",
       "      <td>0</td>\n",
       "      <td>0</td>\n",
       "      <td>113783</td>\n",
       "      <td>26.5500</td>\n",
       "      <td>C103</td>\n",
       "      <td>S</td>\n",
       "    </tr>\n",
       "  </tbody>\n",
       "</table>\n",
       "</div>"
      ],
      "text/plain": [
       "    PassengerId  Survived  Pclass  \\\n",
       "1             2         1       1   \n",
       "3             4         1       1   \n",
       "6             7         0       1   \n",
       "10           11         1       3   \n",
       "11           12         1       1   \n",
       "\n",
       "                                                 Name     Sex   Age  SibSp  \\\n",
       "1   Cumings, Mrs. John Bradley (Florence Briggs Th...  female  38.0      1   \n",
       "3        Futrelle, Mrs. Jacques Heath (Lily May Peel)  female  35.0      1   \n",
       "6                             McCarthy, Mr. Timothy J    male  54.0      0   \n",
       "10                    Sandstrom, Miss. Marguerite Rut  female   4.0      1   \n",
       "11                           Bonnell, Miss. Elizabeth  female  58.0      0   \n",
       "\n",
       "    Parch    Ticket     Fare Cabin Embarked  \n",
       "1       0  PC 17599  71.2833   C85        C  \n",
       "3       0    113803  53.1000  C123        S  \n",
       "6       0     17463  51.8625   E46        S  \n",
       "10      1   PP 9549  16.7000    G6        S  \n",
       "11      0    113783  26.5500  C103        S  "
      ]
     },
     "execution_count": 6,
     "metadata": {},
     "output_type": "execute_result"
    }
   ],
   "source": [
    "df_titanic = pd.read_csv('train.csv', sep=',').dropna()\n",
    "df_titanic.head()"
   ]
  },
  {
   "cell_type": "markdown",
   "metadata": {},
   "source": [
    "## Бинарные признаки\n",
    "Это признаки с двумя возможными значениями\n",
    "* Пол (мужской, женский)\n",
    "* Выжил (да, нет)\n",
    "\n",
    "На вход в алгоритмы обычно подаются в виде значений `{0, 1}` (реже в виде `{-1, 1}`)"
   ]
  },
  {
   "cell_type": "code",
   "execution_count": 3,
   "metadata": {
    "collapsed": false
   },
   "outputs": [
    {
     "data": {
      "text/plain": [
       "1    123\n",
       "0     60\n",
       "Name: Survived, dtype: int64"
      ]
     },
     "execution_count": 3,
     "metadata": {},
     "output_type": "execute_result"
    }
   ],
   "source": [
    "# Здесь все нормально\n",
    "df_titanic.Survived.value_counts()"
   ]
  },
  {
   "cell_type": "code",
   "execution_count": 7,
   "metadata": {
    "collapsed": false
   },
   "outputs": [
    {
     "data": {
      "text/plain": [
       "male      95\n",
       "female    88\n",
       "Name: Sex, dtype: int64"
      ]
     },
     "execution_count": 7,
     "metadata": {},
     "output_type": "execute_result"
    }
   ],
   "source": [
    "# Тут стоит выполнить переобознаение\n",
    "df_titanic.Sex.value_counts()"
   ]
  },
  {
   "cell_type": "code",
   "execution_count": 8,
   "metadata": {
    "collapsed": false
   },
   "outputs": [
    {
     "data": {
      "text/plain": [
       "0    95\n",
       "1    88\n",
       "Name: Sex, dtype: int64"
      ]
     },
     "execution_count": 8,
     "metadata": {},
     "output_type": "execute_result"
    }
   ],
   "source": [
    "# Например так\n",
    "df_titanic.Sex = df_titanic.Sex.replace({'male': 0, 'female': 1})\n",
    "df_titanic.Sex.value_counts()"
   ]
  },
  {
   "cell_type": "markdown",
   "metadata": {},
   "source": [
    "## Вещественные признаки\n",
    "\n",
    "* Возраст\n",
    "* Сумма, потраченная на билет\n",
    "* Количество родственников на борту\n",
    "\n",
    "Как правило остаются в том же виде или выполняется **нормализация** признаков, т.е. переход к одинаковой шкале, например:\n",
    "\n",
    "* $\\tilde{x} = \\frac{x - \\text{mean}(x)}{\\text{std}(x)}$\n",
    "* $\\tilde{x} = \\frac{x - \\text{min}(x)}{\\text{max}(x) - \\text{min}(x)}$"
   ]
  },
  {
   "cell_type": "markdown",
   "metadata": {},
   "source": [
    "## Категориальные признаки\n",
    "\n",
    "Принимают значения из *неупорядоченного* множества\n",
    "\n",
    "* Порт погрузки (C = Cherbourg; Q = Queenstown; S = Southampton)\n",
    "* Точка отправления (St Louis, MO; Montreal, PQ; .. }\n",
    "* Точка назначения (Chesterville, ON; Roseville, IL; .. }\n",
    "\n",
    "Обычно такие признаки кодируют с помощью так называемого One Hot Encoding: </br>\n",
    "для каждой категории создается бинарная маска-столбец, в которой стоит `1` если значение признака равно значению соответствующей категории категории.\n",
    "\n",
    "Например, для признака \"порт погрзки\" создается бинарная макска из трех стобцов для каждого из портов: С, Q, S<br/>\n",
    "Если пассажир заходил на кораблю в порту Southampton, то его признаковое описание будет соответственно: `[0, 0, 1]`"
   ]
  },
  {
   "cell_type": "code",
   "execution_count": 9,
   "metadata": {
    "collapsed": false
   },
   "outputs": [
    {
     "data": {
      "text/plain": [
       "1     C\n",
       "3     S\n",
       "6     S\n",
       "10    S\n",
       "11    S\n",
       "Name: Embarked, dtype: object"
      ]
     },
     "execution_count": 9,
     "metadata": {},
     "output_type": "execute_result"
    }
   ],
   "source": [
    "df_titanic.Embarked.head()"
   ]
  },
  {
   "cell_type": "code",
   "execution_count": 10,
   "metadata": {
    "collapsed": false
   },
   "outputs": [
    {
     "data": {
      "text/html": [
       "<div>\n",
       "<table border=\"1\" class=\"dataframe\">\n",
       "  <thead>\n",
       "    <tr style=\"text-align: right;\">\n",
       "      <th></th>\n",
       "      <th>Embarked=C</th>\n",
       "      <th>Embarked=Q</th>\n",
       "      <th>Embarked=S</th>\n",
       "    </tr>\n",
       "  </thead>\n",
       "  <tbody>\n",
       "    <tr>\n",
       "      <th>1</th>\n",
       "      <td>1.0</td>\n",
       "      <td>0.0</td>\n",
       "      <td>0.0</td>\n",
       "    </tr>\n",
       "    <tr>\n",
       "      <th>3</th>\n",
       "      <td>0.0</td>\n",
       "      <td>0.0</td>\n",
       "      <td>1.0</td>\n",
       "    </tr>\n",
       "    <tr>\n",
       "      <th>6</th>\n",
       "      <td>0.0</td>\n",
       "      <td>0.0</td>\n",
       "      <td>1.0</td>\n",
       "    </tr>\n",
       "    <tr>\n",
       "      <th>10</th>\n",
       "      <td>0.0</td>\n",
       "      <td>0.0</td>\n",
       "      <td>1.0</td>\n",
       "    </tr>\n",
       "    <tr>\n",
       "      <th>11</th>\n",
       "      <td>0.0</td>\n",
       "      <td>0.0</td>\n",
       "      <td>1.0</td>\n",
       "    </tr>\n",
       "  </tbody>\n",
       "</table>\n",
       "</div>"
      ],
      "text/plain": [
       "    Embarked=C  Embarked=Q  Embarked=S\n",
       "1          1.0         0.0         0.0\n",
       "3          0.0         0.0         1.0\n",
       "6          0.0         0.0         1.0\n",
       "10         0.0         0.0         1.0\n",
       "11         0.0         0.0         1.0"
      ]
     },
     "execution_count": 10,
     "metadata": {},
     "output_type": "execute_result"
    }
   ],
   "source": [
    "# Сделать в python это можно несколькими способами:\n",
    "\n",
    "# 1: Через pandas (не очень рекомендуется)\n",
    "emb = pd.get_dummies(df_titanic.Embarked, prefix='Embarked', prefix_sep='=')\n",
    "emb.head()"
   ]
  },
  {
   "cell_type": "code",
   "execution_count": 14,
   "metadata": {
    "collapsed": false
   },
   "outputs": [
    {
     "data": {
      "text/plain": [
       "array([[ 1.,  0.,  0.],\n",
       "       [ 0.,  0.,  1.],\n",
       "       [ 0.,  0.,  1.],\n",
       "       [ 0.,  0.,  1.],\n",
       "       [ 0.,  0.,  1.]])"
      ]
     },
     "execution_count": 14,
     "metadata": {},
     "output_type": "execute_result"
    }
   ],
   "source": [
    "# 2: Функционал sklearn\n",
    "from sklearn.preprocessing import OneHotEncoder\n",
    "\n",
    "encoder = OneHotEncoder(sparse=False)\n",
    "\n",
    "emb = df_titanic.loc[:, ['Embarked']].replace({'C': 0, 'Q': 1, 'S': 2}).values\n",
    "emb_enc = encoder.fit_transform(emb)\n",
    "emb_enc[:5]"
   ]
  },
  {
   "cell_type": "markdown",
   "metadata": {},
   "source": [
    "Про другием способы работы с категориальными переменными можно прочитать вот [тут](https://alexanderdyakonov.wordpress.com/2016/08/03/python-%D0%BA%D0%B0%D1%82%D0%B5%D0%B3%D0%BE%D1%80%D0%B8%D0%B0%D0%BB%D1%8C%D0%BD%D1%8B%D0%B5-%D0%BF%D1%80%D0%B8%D0%B7%D0%BD%D0%B0%D0%BA%D0%B8/)"
   ]
  },
  {
   "cell_type": "markdown",
   "metadata": {},
   "source": [
    "## Порядковый признаки"
   ]
  },
  {
   "cell_type": "markdown",
   "metadata": {},
   "source": [
    "Принимают значения из *упорядоченного* множества\n",
    "\n",
    "* Класс каюты (1 > 2 > 3)\n",
    "\n",
    "В зависимости от метода остаются можно оставить в исходном виде или применить OneHotEncoding."
   ]
  },
  {
   "cell_type": "markdown",
   "metadata": {},
   "source": [
    "## Текстовые признаки - Bag of words"
   ]
  },
  {
   "cell_type": "markdown",
   "metadata": {},
   "source": [
    "Для демонстрации возьмем текст стихотворения Блока:\n",
    "\n",
    "Ночь, улица, фонарь, аптека,<br/>\n",
    "Бессмысленный и тусклый свет.<br/>\n",
    "Живи еще хоть четверть века -<br/>\n",
    "Все будет так. Исхода нет.<br/>\n",
    "\n",
    "Умрешь - начнешь опять сначала<br/>\n",
    "И повторится все, как встарь:<br/>\n",
    "Ночь, ледяная рябь канала,<br/>\n",
    "Аптека, улица, фонарь.<br/>\n",
    "\n",
    "Пусть каждая строчка - это будет условный документ. Переведем эти документы в числовое представление по методу мешка слов (Bag Of Words)"
   ]
  },
  {
   "cell_type": "code",
   "execution_count": 15,
   "metadata": {
    "collapsed": false
   },
   "outputs": [],
   "source": [
    "from sklearn.feature_extraction.text import CountVectorizer\n",
    "from sklearn.feature_extraction.text import TfidfVectorizer\n",
    "\n",
    "corpus = \\\n",
    "[u'Ночь, улица, фонарь, аптека,',\n",
    " u'Бессмысленный и тусклый свет.',\n",
    " u'Живи еще хоть четверть века -',\n",
    " u'Все будет так. Исхода нет.',\n",
    " u'Умрешь - начнешь опять сначала',\n",
    " u'И повторится все, как встарь:',\n",
    " u'Ночь, ледяная рябь канала,',\n",
    " u'Аптека, улица, фонарь.']"
   ]
  },
  {
   "cell_type": "code",
   "execution_count": 16,
   "metadata": {
    "collapsed": false
   },
   "outputs": [
    {
     "data": {
      "text/plain": [
       "(8L, 27L)"
      ]
     },
     "execution_count": 16,
     "metadata": {},
     "output_type": "execute_result"
    }
   ],
   "source": [
    "vect = CountVectorizer()\n",
    "\n",
    "bow = vect.fit_transform(corpus)\n",
    "bow = bow.toarray()\n",
    "bow.shape"
   ]
  },
  {
   "cell_type": "markdown",
   "metadata": {},
   "source": [
    "Получили матрицу размера $8 \\times 27$, так как у нас 8 строчек и выделилось 27 униальных слов. Элемент матрицы показывает сколько раз слово встречалось в соответствующем документе."
   ]
  },
  {
   "cell_type": "code",
   "execution_count": 17,
   "metadata": {
    "collapsed": false
   },
   "outputs": [
    {
     "data": {
      "text/plain": [
       "array([[1, 0, 0, 0, 0, 0, 0, 0, 0, 0, 0, 0, 0, 0, 1, 0, 0, 0, 0, 0, 0, 0,\n",
       "        1, 0, 1, 0, 0],\n",
       "       [0, 1, 0, 0, 0, 0, 0, 0, 0, 0, 0, 0, 0, 0, 0, 0, 0, 0, 1, 0, 0, 1,\n",
       "        0, 0, 0, 0, 0],\n",
       "       [0, 0, 0, 1, 0, 0, 1, 1, 0, 0, 0, 0, 0, 0, 0, 0, 0, 0, 0, 0, 0, 0,\n",
       "        0, 0, 0, 1, 1],\n",
       "       [0, 0, 1, 0, 1, 0, 0, 0, 1, 0, 0, 0, 0, 1, 0, 0, 0, 0, 0, 0, 1, 0,\n",
       "        0, 0, 0, 0, 0],\n",
       "       [0, 0, 0, 0, 0, 0, 0, 0, 0, 0, 0, 0, 1, 0, 0, 1, 0, 0, 0, 1, 0, 0,\n",
       "        0, 1, 0, 0, 0],\n",
       "       [0, 0, 0, 0, 1, 1, 0, 0, 0, 1, 0, 0, 0, 0, 0, 0, 1, 0, 0, 0, 0, 0,\n",
       "        0, 0, 0, 0, 0],\n",
       "       [0, 0, 0, 0, 0, 0, 0, 0, 0, 0, 1, 1, 0, 0, 1, 0, 0, 1, 0, 0, 0, 0,\n",
       "        0, 0, 0, 0, 0],\n",
       "       [1, 0, 0, 0, 0, 0, 0, 0, 0, 0, 0, 0, 0, 0, 0, 0, 0, 0, 0, 0, 0, 0,\n",
       "        1, 0, 1, 0, 0]], dtype=int64)"
      ]
     },
     "execution_count": 17,
     "metadata": {},
     "output_type": "execute_result"
    }
   ],
   "source": [
    "bow"
   ]
  },
  {
   "cell_type": "code",
   "execution_count": 18,
   "metadata": {
    "collapsed": false
   },
   "outputs": [
    {
     "name": "stdout",
     "output_type": "stream",
     "text": [
      "столбец 0: аптека\n",
      "столбец 1: бессмысленный\n",
      "столбец 2: будет\n",
      "столбец 3: века\n",
      "столбец 4: все\n",
      "столбец 5: встарь\n",
      "столбец 6: еще\n",
      "столбец 7: живи\n",
      "столбец 8: исхода\n",
      "столбец 9: как\n",
      "столбец 10: канала\n",
      "столбец 11: ледяная\n",
      "столбец 12: начнешь\n",
      "столбец 13: нет\n",
      "столбец 14: ночь\n",
      "столбец 15: опять\n",
      "столбец 16: повторится\n",
      "столбец 17: рябь\n",
      "столбец 18: свет\n",
      "столбец 19: сначала\n",
      "столбец 20: так\n",
      "столбец 21: тусклый\n",
      "столбец 22: улица\n",
      "столбец 23: умрешь\n",
      "столбец 24: фонарь\n",
      "столбец 25: хоть\n",
      "столбец 26: четверть\n"
     ]
    }
   ],
   "source": [
    "# Посмотрим какие слова стоят по столбцам\n",
    "for i, w in enumerate(vect.get_feature_names()):\n",
    "    print u'столбец %d: %s' % (i, w)"
   ]
  },
  {
   "cell_type": "markdown",
   "metadata": {},
   "source": [
    "# Туториал: Имплементация собственного метода"
   ]
  },
  {
   "cell_type": "markdown",
   "metadata": {},
   "source": [
    "Для решения задач вида \"имплементируйте метод X\" крайне желательно (но необязательно) реализовывать методы с помощью интерфейса sklearn. Ниже вы увидите пример очень простого **классификатора**. Используйте эти наработи для выполнения задания."
   ]
  },
  {
   "cell_type": "markdown",
   "metadata": {},
   "source": [
    "Загрузите [датасет](https://archive.ics.uci.edu/ml/machine-learning-databases/wine-quality/winequality-red.csv) с информацией о характеристиках вина и его качестве. (В метод `pd.read_csv()` можно подать веб-ссылку на данные и пандас их скачает и преобразует в `DataFrame`)."
   ]
  },
  {
   "cell_type": "code",
   "execution_count": 27,
   "metadata": {
    "collapsed": false
   },
   "outputs": [],
   "source": [
    "df_wine = pd.read_csv('https://archive.ics.uci.edu/ml/machine-learning-databases/wine-quality/winequality-red.csv', sep=';')"
   ]
  },
  {
   "cell_type": "code",
   "execution_count": 30,
   "metadata": {
    "collapsed": false
   },
   "outputs": [
    {
     "data": {
      "text/html": [
       "<div>\n",
       "<table border=\"1\" class=\"dataframe\">\n",
       "  <thead>\n",
       "    <tr style=\"text-align: right;\">\n",
       "      <th></th>\n",
       "      <th>fixed acidity</th>\n",
       "      <th>volatile acidity</th>\n",
       "      <th>citric acid</th>\n",
       "      <th>residual sugar</th>\n",
       "      <th>chlorides</th>\n",
       "      <th>free sulfur dioxide</th>\n",
       "      <th>total sulfur dioxide</th>\n",
       "      <th>density</th>\n",
       "      <th>pH</th>\n",
       "      <th>sulphates</th>\n",
       "      <th>alcohol</th>\n",
       "      <th>quality</th>\n",
       "    </tr>\n",
       "  </thead>\n",
       "  <tbody>\n",
       "    <tr>\n",
       "      <th>0</th>\n",
       "      <td>7.4</td>\n",
       "      <td>0.70</td>\n",
       "      <td>0.00</td>\n",
       "      <td>1.9</td>\n",
       "      <td>0.076</td>\n",
       "      <td>11.0</td>\n",
       "      <td>34.0</td>\n",
       "      <td>0.9978</td>\n",
       "      <td>3.51</td>\n",
       "      <td>0.56</td>\n",
       "      <td>9.4</td>\n",
       "      <td>5</td>\n",
       "    </tr>\n",
       "    <tr>\n",
       "      <th>1</th>\n",
       "      <td>7.8</td>\n",
       "      <td>0.88</td>\n",
       "      <td>0.00</td>\n",
       "      <td>2.6</td>\n",
       "      <td>0.098</td>\n",
       "      <td>25.0</td>\n",
       "      <td>67.0</td>\n",
       "      <td>0.9968</td>\n",
       "      <td>3.20</td>\n",
       "      <td>0.68</td>\n",
       "      <td>9.8</td>\n",
       "      <td>5</td>\n",
       "    </tr>\n",
       "    <tr>\n",
       "      <th>2</th>\n",
       "      <td>7.8</td>\n",
       "      <td>0.76</td>\n",
       "      <td>0.04</td>\n",
       "      <td>2.3</td>\n",
       "      <td>0.092</td>\n",
       "      <td>15.0</td>\n",
       "      <td>54.0</td>\n",
       "      <td>0.9970</td>\n",
       "      <td>3.26</td>\n",
       "      <td>0.65</td>\n",
       "      <td>9.8</td>\n",
       "      <td>5</td>\n",
       "    </tr>\n",
       "    <tr>\n",
       "      <th>3</th>\n",
       "      <td>11.2</td>\n",
       "      <td>0.28</td>\n",
       "      <td>0.56</td>\n",
       "      <td>1.9</td>\n",
       "      <td>0.075</td>\n",
       "      <td>17.0</td>\n",
       "      <td>60.0</td>\n",
       "      <td>0.9980</td>\n",
       "      <td>3.16</td>\n",
       "      <td>0.58</td>\n",
       "      <td>9.8</td>\n",
       "      <td>6</td>\n",
       "    </tr>\n",
       "    <tr>\n",
       "      <th>4</th>\n",
       "      <td>7.4</td>\n",
       "      <td>0.70</td>\n",
       "      <td>0.00</td>\n",
       "      <td>1.9</td>\n",
       "      <td>0.076</td>\n",
       "      <td>11.0</td>\n",
       "      <td>34.0</td>\n",
       "      <td>0.9978</td>\n",
       "      <td>3.51</td>\n",
       "      <td>0.56</td>\n",
       "      <td>9.4</td>\n",
       "      <td>5</td>\n",
       "    </tr>\n",
       "  </tbody>\n",
       "</table>\n",
       "</div>"
      ],
      "text/plain": [
       "   fixed acidity  volatile acidity  citric acid  residual sugar  chlorides  \\\n",
       "0            7.4              0.70         0.00             1.9      0.076   \n",
       "1            7.8              0.88         0.00             2.6      0.098   \n",
       "2            7.8              0.76         0.04             2.3      0.092   \n",
       "3           11.2              0.28         0.56             1.9      0.075   \n",
       "4            7.4              0.70         0.00             1.9      0.076   \n",
       "\n",
       "   free sulfur dioxide  total sulfur dioxide  density    pH  sulphates  \\\n",
       "0                 11.0                  34.0   0.9978  3.51       0.56   \n",
       "1                 25.0                  67.0   0.9968  3.20       0.68   \n",
       "2                 15.0                  54.0   0.9970  3.26       0.65   \n",
       "3                 17.0                  60.0   0.9980  3.16       0.58   \n",
       "4                 11.0                  34.0   0.9978  3.51       0.56   \n",
       "\n",
       "   alcohol  quality  \n",
       "0      9.4        5  \n",
       "1      9.8        5  \n",
       "2      9.8        5  \n",
       "3      9.8        6  \n",
       "4      9.4        5  "
      ]
     },
     "execution_count": 30,
     "metadata": {},
     "output_type": "execute_result"
    }
   ],
   "source": [
    "df_wine.head()"
   ]
  },
  {
   "cell_type": "markdown",
   "metadata": {},
   "source": [
    "Наша задача состоит в предсказании целевого признака `quality` по остальным признакам. `quality` - это вещественная переменная (оценка качества от 0 до 10). Упростим себе задачу - создадим новый столбец `quality_cat` по следующим правилам:\n",
    "\n",
    "* `quality_cat = 1` если `quality > 5` \n",
    "* `quality_cat = 0` - иначе \n",
    "\n",
    "Таким образом, `quality_cat` характерует \"плохое\" и \"хорошее\" вино."
   ]
  },
  {
   "cell_type": "code",
   "execution_count": 21,
   "metadata": {
    "collapsed": false
   },
   "outputs": [],
   "source": [
    "def prepocess_wine(df):\n",
    "    df.loc[:, 'quality_cat'] = (df.loc[:, 'quality'] > 5).astype(int)\n",
    "    df = df.drop('quality', axis=1)\n",
    "    \n",
    "    return df"
   ]
  },
  {
   "cell_type": "code",
   "execution_count": 31,
   "metadata": {
    "collapsed": false
   },
   "outputs": [
    {
     "data": {
      "text/html": [
       "<div>\n",
       "<table border=\"1\" class=\"dataframe\">\n",
       "  <thead>\n",
       "    <tr style=\"text-align: right;\">\n",
       "      <th></th>\n",
       "      <th>fixed acidity</th>\n",
       "      <th>volatile acidity</th>\n",
       "      <th>citric acid</th>\n",
       "      <th>residual sugar</th>\n",
       "      <th>chlorides</th>\n",
       "      <th>free sulfur dioxide</th>\n",
       "      <th>total sulfur dioxide</th>\n",
       "      <th>density</th>\n",
       "      <th>pH</th>\n",
       "      <th>sulphates</th>\n",
       "      <th>alcohol</th>\n",
       "      <th>quality_cat</th>\n",
       "    </tr>\n",
       "  </thead>\n",
       "  <tbody>\n",
       "    <tr>\n",
       "      <th>0</th>\n",
       "      <td>7.4</td>\n",
       "      <td>0.70</td>\n",
       "      <td>0.00</td>\n",
       "      <td>1.9</td>\n",
       "      <td>0.076</td>\n",
       "      <td>11.0</td>\n",
       "      <td>34.0</td>\n",
       "      <td>0.9978</td>\n",
       "      <td>3.51</td>\n",
       "      <td>0.56</td>\n",
       "      <td>9.4</td>\n",
       "      <td>0</td>\n",
       "    </tr>\n",
       "    <tr>\n",
       "      <th>1</th>\n",
       "      <td>7.8</td>\n",
       "      <td>0.88</td>\n",
       "      <td>0.00</td>\n",
       "      <td>2.6</td>\n",
       "      <td>0.098</td>\n",
       "      <td>25.0</td>\n",
       "      <td>67.0</td>\n",
       "      <td>0.9968</td>\n",
       "      <td>3.20</td>\n",
       "      <td>0.68</td>\n",
       "      <td>9.8</td>\n",
       "      <td>0</td>\n",
       "    </tr>\n",
       "    <tr>\n",
       "      <th>2</th>\n",
       "      <td>7.8</td>\n",
       "      <td>0.76</td>\n",
       "      <td>0.04</td>\n",
       "      <td>2.3</td>\n",
       "      <td>0.092</td>\n",
       "      <td>15.0</td>\n",
       "      <td>54.0</td>\n",
       "      <td>0.9970</td>\n",
       "      <td>3.26</td>\n",
       "      <td>0.65</td>\n",
       "      <td>9.8</td>\n",
       "      <td>0</td>\n",
       "    </tr>\n",
       "    <tr>\n",
       "      <th>3</th>\n",
       "      <td>11.2</td>\n",
       "      <td>0.28</td>\n",
       "      <td>0.56</td>\n",
       "      <td>1.9</td>\n",
       "      <td>0.075</td>\n",
       "      <td>17.0</td>\n",
       "      <td>60.0</td>\n",
       "      <td>0.9980</td>\n",
       "      <td>3.16</td>\n",
       "      <td>0.58</td>\n",
       "      <td>9.8</td>\n",
       "      <td>1</td>\n",
       "    </tr>\n",
       "    <tr>\n",
       "      <th>4</th>\n",
       "      <td>7.4</td>\n",
       "      <td>0.70</td>\n",
       "      <td>0.00</td>\n",
       "      <td>1.9</td>\n",
       "      <td>0.076</td>\n",
       "      <td>11.0</td>\n",
       "      <td>34.0</td>\n",
       "      <td>0.9978</td>\n",
       "      <td>3.51</td>\n",
       "      <td>0.56</td>\n",
       "      <td>9.4</td>\n",
       "      <td>0</td>\n",
       "    </tr>\n",
       "  </tbody>\n",
       "</table>\n",
       "</div>"
      ],
      "text/plain": [
       "   fixed acidity  volatile acidity  citric acid  residual sugar  chlorides  \\\n",
       "0            7.4              0.70         0.00             1.9      0.076   \n",
       "1            7.8              0.88         0.00             2.6      0.098   \n",
       "2            7.8              0.76         0.04             2.3      0.092   \n",
       "3           11.2              0.28         0.56             1.9      0.075   \n",
       "4            7.4              0.70         0.00             1.9      0.076   \n",
       "\n",
       "   free sulfur dioxide  total sulfur dioxide  density    pH  sulphates  \\\n",
       "0                 11.0                  34.0   0.9978  3.51       0.56   \n",
       "1                 25.0                  67.0   0.9968  3.20       0.68   \n",
       "2                 15.0                  54.0   0.9970  3.26       0.65   \n",
       "3                 17.0                  60.0   0.9980  3.16       0.58   \n",
       "4                 11.0                  34.0   0.9978  3.51       0.56   \n",
       "\n",
       "   alcohol  quality_cat  \n",
       "0      9.4            0  \n",
       "1      9.8            0  \n",
       "2      9.8            0  \n",
       "3      9.8            1  \n",
       "4      9.4            0  "
      ]
     },
     "execution_count": 31,
     "metadata": {},
     "output_type": "execute_result"
    }
   ],
   "source": [
    "df_wine = df_wine.pipe(prepocess_wine)\n",
    "df_wine.head()"
   ]
  },
  {
   "cell_type": "markdown",
   "metadata": {},
   "source": [
    "Нарисуем распределение хорошего и плохого вина по признаку `alcohol`."
   ]
  },
  {
   "cell_type": "code",
   "execution_count": 38,
   "metadata": {
    "collapsed": false
   },
   "outputs": [
    {
     "data": {
      "text/plain": [
       "<matplotlib.legend.Legend at 0xe15f470>"
      ]
     },
     "execution_count": 38,
     "metadata": {},
     "output_type": "execute_result"
    },
    {
     "data": {
      "image/png": "[encoded data removed]",
      "text/plain": [
       "<matplotlib.figure.Figure at 0xe02d898>"
      ]
     },
     "metadata": {},
     "output_type": "display_data"
    }
   ],
   "source": [
    "_, ax = plt.subplots(1,1)\n",
    "df_wine.query('quality_cat == 1').hist('alcohol', alpha=0.3, bins=20, label='good', ax=ax)\n",
    "df_wine.query('quality_cat == 0').hist('alcohol', alpha=0.3, bins=20, label='bad', ax=ax)\n",
    "ax.set_xlabel('alcohol')\n",
    "ax.set_ylabel('count')\n",
    "plt.legend()"
   ]
  },
  {
   "cell_type": "markdown",
   "metadata": {},
   "source": [
    "Визуально кажется, что можно найти некоторое пороговое значение признака `alcohol` $\\theta$, чтобы хорошо дискриминировать между плохими и хорошим вином:\n",
    "* Если `alcohol >` $\\theta$ - то предсказываем, что вино хорошее\n",
    "* Если `alcohol <=` $\\theta$ - то предсказываем, что вино плохое\n",
    "\n",
    "Обучать классификатор будем очень просто: перебирать значения признака alchol и считать **ошибку** классификации. То значение, где ошибка минимальна и будет оптимальным.\n",
    "\n",
    "Разделим целевой признак от остальных признаков"
   ]
  },
  {
   "cell_type": "code",
   "execution_count": 65,
   "metadata": {
    "collapsed": false,
    "scrolled": true
   },
   "outputs": [],
   "source": [
    "X, y = df_wine.iloc[:, :-1].values, df_wine.iloc[:, -1].values\n"
   ]
  },
  {
   "cell_type": "markdown",
   "metadata": {},
   "source": [
    "Далее вы увидете пример реализации этого простого классификатора."
   ]
  },
  {
   "cell_type": "code",
   "execution_count": 66,
   "metadata": {
    "collapsed": true
   },
   "outputs": [],
   "source": [
    "from sklearn.base import BaseEstimator, ClassifierMixin\n",
    "\n",
    "class SimpleClassifier(BaseEstimator, ClassifierMixin): \n",
    "    \n",
    "    def __init__(self):\n",
    "        \"\"\"\n",
    "        Инициализация метода\n",
    "        \"\"\"\n",
    "        \n",
    "        self.threshold = 0\n",
    "\n",
    "    def fit(self, X, y=None):\n",
    "        \"\"\"\n",
    "        Выполняет процедуру обучения классификатора. В данном случае - перебор значения признака alcohol.\n",
    "        Договоримся, что признак alcohol будет в последнем столбце матрицы X\n",
    "        \"\"\"\n",
    "        \n",
    "        alcohol = X[:,-1]\n",
    "        n = float(y.shape[0])\n",
    "        \n",
    "        # Задаем пространство поиска\n",
    "        alco_range = np.arange(alcohol.min(), alcohol.max(), 0.1)\n",
    "        \n",
    "        min_error_rate = 1\n",
    "                \n",
    "        #  Начинаем поиск\n",
    "        for theta in alco_range:\n",
    "            prediction = alcohol > theta\n",
    "            \n",
    "            error_rate = sum(prediction != y)/n\n",
    "            \n",
    "            if error_rate < min_error_rate:\n",
    "                min_error_rate = error_rate\n",
    "                self.threshold = theta  \n",
    "        \n",
    "        return self\n",
    "\n",
    "    def predict(self, X, y=None):\n",
    "        \"\"\"\n",
    "        Процедура предсказания класса по обученному порогу\n",
    "        \"\"\"\n",
    "        \n",
    "        return (X[:,-1] > self.threshold).astype(int)"
   ]
  },
  {
   "cell_type": "markdown",
   "metadata": {},
   "source": [
    "Обучаем модель"
   ]
  },
  {
   "cell_type": "code",
   "execution_count": 69,
   "metadata": {
    "collapsed": false
   },
   "outputs": [
    {
     "name": "stdout",
     "output_type": "stream",
     "text": [
      "Оптимальный порог: 10.000000\n"
     ]
    }
   ],
   "source": [
    "model = SimpleClassifier()\n",
    "model.fit(X, y)\n",
    "\n",
    "print ('Оптимальный порог: %f' % model.threshold)"
   ]
  },
  {
   "cell_type": "markdown",
   "metadata": {},
   "source": [
    "Получаем предсказание модели (на обучающей выборке)"
   ]
  },
  {
   "cell_type": "code",
   "execution_count": 70,
   "metadata": {
    "collapsed": true
   },
   "outputs": [],
   "source": [
    "y_hat = model.predict(X)"
   ]
  },
  {
   "cell_type": "markdown",
   "metadata": {},
   "source": [
    "Оценим долю ошибок на обучающей выборке"
   ]
  },
  {
   "cell_type": "code",
   "execution_count": 71,
   "metadata": {
    "collapsed": false
   },
   "outputs": [
    {
     "name": "stdout",
     "output_type": "stream",
     "text": [
      "Доля ошибок на обучающей выборке: 0.295184\n"
     ]
    }
   ],
   "source": [
    "error_rate = sum(y_hat != y)/float(y.shape[0])\n",
    "print ('Доля ошибок на обучающей выборке: %f' % error_rate)"
   ]
  },
  {
   "cell_type": "markdown",
   "metadata": {},
   "source": [
    "## Проверка метода на контрольной выборке\n",
    "\n",
    "Мы обучили наш метод на данных о красном виде. \n",
    "\n",
    "Посмотрим, выполняется ли так же хорошо закономерность между качеством и уровнем алкоголя в белом вине."
   ]
  },
  {
   "cell_type": "code",
   "execution_count": 72,
   "metadata": {
    "collapsed": false
   },
   "outputs": [
    {
     "data": {
      "text/html": [
       "<div>\n",
       "<table border=\"1\" class=\"dataframe\">\n",
       "  <thead>\n",
       "    <tr style=\"text-align: right;\">\n",
       "      <th></th>\n",
       "      <th>fixed acidity</th>\n",
       "      <th>volatile acidity</th>\n",
       "      <th>citric acid</th>\n",
       "      <th>residual sugar</th>\n",
       "      <th>chlorides</th>\n",
       "      <th>free sulfur dioxide</th>\n",
       "      <th>total sulfur dioxide</th>\n",
       "      <th>density</th>\n",
       "      <th>pH</th>\n",
       "      <th>sulphates</th>\n",
       "      <th>alcohol</th>\n",
       "      <th>quality_cat</th>\n",
       "    </tr>\n",
       "  </thead>\n",
       "  <tbody>\n",
       "    <tr>\n",
       "      <th>0</th>\n",
       "      <td>7.0</td>\n",
       "      <td>0.27</td>\n",
       "      <td>0.36</td>\n",
       "      <td>20.7</td>\n",
       "      <td>0.045</td>\n",
       "      <td>45.0</td>\n",
       "      <td>170.0</td>\n",
       "      <td>1.0010</td>\n",
       "      <td>3.00</td>\n",
       "      <td>0.45</td>\n",
       "      <td>8.8</td>\n",
       "      <td>1</td>\n",
       "    </tr>\n",
       "    <tr>\n",
       "      <th>1</th>\n",
       "      <td>6.3</td>\n",
       "      <td>0.30</td>\n",
       "      <td>0.34</td>\n",
       "      <td>1.6</td>\n",
       "      <td>0.049</td>\n",
       "      <td>14.0</td>\n",
       "      <td>132.0</td>\n",
       "      <td>0.9940</td>\n",
       "      <td>3.30</td>\n",
       "      <td>0.49</td>\n",
       "      <td>9.5</td>\n",
       "      <td>1</td>\n",
       "    </tr>\n",
       "    <tr>\n",
       "      <th>2</th>\n",
       "      <td>8.1</td>\n",
       "      <td>0.28</td>\n",
       "      <td>0.40</td>\n",
       "      <td>6.9</td>\n",
       "      <td>0.050</td>\n",
       "      <td>30.0</td>\n",
       "      <td>97.0</td>\n",
       "      <td>0.9951</td>\n",
       "      <td>3.26</td>\n",
       "      <td>0.44</td>\n",
       "      <td>10.1</td>\n",
       "      <td>1</td>\n",
       "    </tr>\n",
       "    <tr>\n",
       "      <th>3</th>\n",
       "      <td>7.2</td>\n",
       "      <td>0.23</td>\n",
       "      <td>0.32</td>\n",
       "      <td>8.5</td>\n",
       "      <td>0.058</td>\n",
       "      <td>47.0</td>\n",
       "      <td>186.0</td>\n",
       "      <td>0.9956</td>\n",
       "      <td>3.19</td>\n",
       "      <td>0.40</td>\n",
       "      <td>9.9</td>\n",
       "      <td>1</td>\n",
       "    </tr>\n",
       "    <tr>\n",
       "      <th>4</th>\n",
       "      <td>7.2</td>\n",
       "      <td>0.23</td>\n",
       "      <td>0.32</td>\n",
       "      <td>8.5</td>\n",
       "      <td>0.058</td>\n",
       "      <td>47.0</td>\n",
       "      <td>186.0</td>\n",
       "      <td>0.9956</td>\n",
       "      <td>3.19</td>\n",
       "      <td>0.40</td>\n",
       "      <td>9.9</td>\n",
       "      <td>1</td>\n",
       "    </tr>\n",
       "  </tbody>\n",
       "</table>\n",
       "</div>"
      ],
      "text/plain": [
       "   fixed acidity  volatile acidity  citric acid  residual sugar  chlorides  \\\n",
       "0            7.0              0.27         0.36            20.7      0.045   \n",
       "1            6.3              0.30         0.34             1.6      0.049   \n",
       "2            8.1              0.28         0.40             6.9      0.050   \n",
       "3            7.2              0.23         0.32             8.5      0.058   \n",
       "4            7.2              0.23         0.32             8.5      0.058   \n",
       "\n",
       "   free sulfur dioxide  total sulfur dioxide  density    pH  sulphates  \\\n",
       "0                 45.0                 170.0   1.0010  3.00       0.45   \n",
       "1                 14.0                 132.0   0.9940  3.30       0.49   \n",
       "2                 30.0                  97.0   0.9951  3.26       0.44   \n",
       "3                 47.0                 186.0   0.9956  3.19       0.40   \n",
       "4                 47.0                 186.0   0.9956  3.19       0.40   \n",
       "\n",
       "   alcohol  quality_cat  \n",
       "0      8.8            1  \n",
       "1      9.5            1  \n",
       "2     10.1            1  \n",
       "3      9.9            1  \n",
       "4      9.9            1  "
      ]
     },
     "execution_count": 72,
     "metadata": {},
     "output_type": "execute_result"
    }
   ],
   "source": [
    "df_wine_test = pd.read_csv('https://archive.ics.uci.edu/ml/machine-learning-databases/wine-quality/winequality-white.csv',\n",
    "                           sep=';')\n",
    "\n",
    "df_wine_test = df_wine_test.pipe(prepocess_wine)\n",
    "df_wine_test.head()"
   ]
  },
  {
   "cell_type": "code",
   "execution_count": 73,
   "metadata": {
    "collapsed": false
   },
   "outputs": [],
   "source": [
    "X_test, y_test = df_wine_test.iloc[:, :-1].values, df_wine_test.iloc[:, -1].values\n",
    "y_hat = model.predict(X_test)"
   ]
  },
  {
   "cell_type": "code",
   "execution_count": 74,
   "metadata": {
    "collapsed": false
   },
   "outputs": [
    {
     "name": "stdout",
     "output_type": "stream",
     "text": [
      "Доля ошибок на контрольной выборке: 0.312577\n"
     ]
    }
   ],
   "source": [
    "error_rate = sum(y_hat != y_test)/float(y_test.shape[0])\n",
    "print 'Доля ошибок на контрольной выборке: %f' % error_rate"
   ]
  },
  {
   "cell_type": "markdown",
   "metadata": {},
   "source": [
    "Получилось неплохо и это лишь наивный алгоритм на одном признаке! Ну а выводы делайте сами =)"
   ]
  },
  {
   "cell_type": "markdown",
   "metadata": {},
   "source": [
    "# Имплементация K-means\n",
    "\n",
    "Пользуясь наработками выше, имплементируйте метод k-means.</br> При инициализации необходимо задавать количество кластеров, функцию расстояния между кластерами (для оригинального k-means - евклидово расстояние) и начальное состояние генератора случайных чисел.\n",
    "\n",
    "После обучения, среди атрибутов класса `Kmeans` должны появится\n",
    "* Метки кластеров для объектов\n",
    "* Координаты центройдов кластеров\n",
    "\n",
    "k-means - это алгоритм **кластеризации**, а не классификации, а посему метод `.predict()` в нем фактически не нужен, но он может возвращать метки ближайшего кластера для объектов."
   ]
  },
  {
   "cell_type": "markdown",
   "metadata": {},
   "source": [
    "#### Задание 1 (5 баллов)\n",
    "\n",
    "Имплементируйте метод k-means"
   ]
  },
  {
   "cell_type": "code",
   "execution_count": 2,
   "metadata": {
    "collapsed": false
   },
   "outputs": [],
   "source": [
    "import numpy as np\n",
    "from scipy.spatial import distance"
   ]
  },
  {
   "cell_type": "code",
   "execution_count": 143,
   "metadata": {
    "collapsed": false
   },
   "outputs": [],
   "source": [
    "from sklearn.base import BaseEstimator, ClusterMixin\n",
    "\n",
    "class Kmeans(BaseEstimator, ClusterMixin): \n",
    "\n",
    "    def __init__(self, k = 6, metric=distance.euclidean, random_state=None):\n",
    "        \"\"\"\n",
    "        Инициализация метода\n",
    "        :k - количество кластеров           \n",
    "        :metric - функция расстояния между объектами\n",
    "        :max_iter - максиальное количество итераций\n",
    "        :random_state - seed для инициализации генератора случайных чисел\n",
    "        \"\"\"\n",
    "        # Инициализация параметров, полученных в конструкторе \n",
    "        self.k = k\n",
    "        self.metric = metric\n",
    "        \n",
    "        # Инициализация генератора случайных чисел\n",
    "        np.random.seed(random_state)\n",
    "        \n",
    "        # Инициализация остальных параметров\n",
    "        self.eps = 0.0001\n",
    "        \n",
    "        self.iteration = 0\n",
    "       \n",
    "    # Ищем центроиды\n",
    "    def _initialize_centroids(self, X):\n",
    "        size = X.shape[0]\n",
    "        self.centroids[0] = X[np.random.rand() * (size - 1)]\n",
    "        \n",
    "        list_dist = np.zeros(size)\n",
    "        list_sum_dist = np.zeros(size)\n",
    "        \n",
    "        for j in range(self.k - 1):\n",
    "            for i in range(size):\n",
    "                _, dist = self._dist_to_centroid(X[i])\n",
    "                list_dist[i] = dist ** 2\n",
    "\n",
    "            list_sum_dist[0] = list_dist[0]\n",
    "            for i in range(size - 1):\n",
    "                list_sum_dist[i + 1] = list_sum_dist[i] + list_dist[i + 1]\n",
    "\n",
    "            sum_dist = list_sum_dist[size - 1]\n",
    "            rand_sum = np.random.rand() * sum_dist\n",
    "            i = 0\n",
    "            while rand_sum < list_sum_dist[i]:\n",
    "                i = i + 1\n",
    "\n",
    "            self.centroids = np.vstack((self.centroids, X[i]))\n",
    "            \n",
    "    # Минимальное расстояние до центроида\n",
    "    def _dist_to_centroid(self, x):\n",
    "        dist = 1000000000\n",
    "        \n",
    "        size = len(self.centroids)\n",
    "        for i in range(size):\n",
    "            if (self.metric(x, self.centroids[i]) < dist):\n",
    "                dist = self.metric(x, self.centroids[i])\n",
    "                label = i\n",
    "               \n",
    "        result = [label, dist]\n",
    "        return result\n",
    "        \n",
    "    def fit(self, X, y=None):\n",
    "        # сохраняем размерность точки       \n",
    "        size = X.shape[1]\n",
    "        \n",
    "        # Массив с центройдами кластеров\n",
    "        self.centroids = np.zeros((1, size))\n",
    "        \n",
    "        # Массив с метками кластеров для каждого объекта из X\n",
    "        self.labels = np.empty(X.shape[0])\n",
    "        self.predict = np.empty(X.shape[0])\n",
    "        \n",
    "        # Поиск минимумов и максимумов\n",
    "        for i in range(size):\n",
    "            min_X = np.min(X, axis=0)\n",
    "            max_X = np.max(X, axis=0) \n",
    "            \n",
    "        \n",
    "        # Существует проблема для выбора начальных центроидов. В стандартной реализации используется случайный выбор точек,\n",
    "        # но при таком подходе мой алгоритм расходился и выходл в бесконечный цикл. Поэтому я решил использовать алгоритм -\n",
    "        # - k-means++. \n",
    "        \n",
    "        # Ссылка на википедию:\n",
    "        # https://ru.wikipedia.org/wiki/K-means%2B%2B\n",
    "        self._initialize_centroids(X)\n",
    "        self.r = np.zeros(self.centroids.shape)\n",
    "            \n",
    "        ## Your Code Here\n",
    "        while (True):\n",
    "            self.iteration+= 1\n",
    "            for i in range(X.shape[0]):\n",
    "                self.labels[i], _ = self._dist_to_centroid(X[i])\n",
    "                        \n",
    "            for i in range(self.k):\n",
    "                if  X[self.labels == i, :].shape[0] != 0:\n",
    "                    self.r[i] = self.centroids[i].copy()\n",
    "                    self.centroids[i] = np.mean(X[self.labels == i, :], axis = 0)\n",
    "            \n",
    "            flag = 0\n",
    "            print('number of iteration: {0}'.format(self.iteration))\n",
    "            for i in range(self.k):\n",
    "                dist_ = self.metric(self.r[i], self.centroids[i])\n",
    "                if (dist_ > self.eps):\n",
    "                    flag = 1\n",
    "                    break;\n",
    "            if (flag == 0):\n",
    "                break;\n",
    "                    \n",
    "        return self\n",
    "\n",
    "    def prediction(self, X, y=None):\n",
    "\n",
    "        for i in range(X.shape[0]):\n",
    "                dist = 100000000\n",
    "                for j in range(self.k):\n",
    "                    if (distance.euclidean(X[i], self.centroids[j]) < dist):\n",
    "                        dist = distance.euclidean(X[i], self.centroids[j])\n",
    "                        self.predict[i] = j\n",
    "        return self.predict\n"
   ]
  },
  {
   "cell_type": "markdown",
   "metadata": {},
   "source": [
    "### Проверка корректности метода\n",
    "\n",
    "Перед тем как применять алгоритм на реальных данных, желатено испытать его на простых \"игрушечных\" данных.\n",
    "\n",
    "Если алгоритм реализован правильно, то метод должен идеально разбивать на 3 кластера данные ниже. Проверьте это."
   ]
  },
  {
   "cell_type": "markdown",
   "metadata": {},
   "source": [
    "#### Задание 2 (1 балл) \n",
    "\n",
    "Проверьте вашу имплементацию на простых данных"
   ]
  },
  {
   "cell_type": "code",
   "execution_count": 144,
   "metadata": {
    "collapsed": false
   },
   "outputs": [
    {
     "name": "stdout",
     "output_type": "stream",
     "text": [
      "number of iteration: 1\n",
      "number of iteration: 2\n",
      "number of iteration: 3\n",
      "number of iteration: 4\n"
     ]
    },
    {
     "name": "stderr",
     "output_type": "stream",
     "text": [
      "C:\\Users\\Python\\Anaconda2\\lib\\site-packages\\ipykernel\\__main__.py:28: VisibleDeprecationWarning: using a non-integer number instead of an integer will result in an error in the future\n"
     ]
    },
    {
     "data": {
      "text/plain": [
       "4"
      ]
     },
     "execution_count": 144,
     "metadata": {},
     "output_type": "execute_result"
    },
    {
     "data": {
      "image/png": "[encoded data removed]",
      "text/plain": [
       "<matplotlib.figure.Figure at 0x9ce7748>"
      ]
     },
     "metadata": {},
     "output_type": "display_data"
    }
   ],
   "source": [
    "from sklearn.datasets import make_blobs\n",
    "X, y = make_blobs(n_samples=100, n_features=2, centers=3, cluster_std=1, \n",
    "           center_box=(-10.0, 10.0), shuffle=False, random_state=1234)\n",
    "\n",
    "K = Kmeans(k = 3)\n",
    "K = K.fit(X)\n",
    "plt.scatter(X[:,0], X[:, 1], c=K.labels)\n",
    "plt.scatter(K.centroids[:, 0], K.centroids[:, 1], color = 'orange')\n",
    "K.iteration"
   ]
  },
  {
   "cell_type": "markdown",
   "metadata": {},
   "source": [
    "# Применение K-means на реальных данных"
   ]
  },
  {
   "cell_type": "markdown",
   "metadata": {},
   "source": [
    "Загрузите [данные](https://github.com/brenden17/sklearnlab/blob/master/facebook/snsdata.csv) в которых содержится описание интересов профилей учеников старшей школы США."
   ]
  },
  {
   "cell_type": "code",
   "execution_count": 145,
   "metadata": {
    "collapsed": false
   },
   "outputs": [
    {
     "data": {
      "text/html": [
       "<div>\n",
       "<table border=\"1\" class=\"dataframe\">\n",
       "  <thead>\n",
       "    <tr style=\"text-align: right;\">\n",
       "      <th></th>\n",
       "      <th>gradyear</th>\n",
       "      <th>gender</th>\n",
       "      <th>age</th>\n",
       "      <th>friends</th>\n",
       "      <th>basketball</th>\n",
       "      <th>football</th>\n",
       "      <th>soccer</th>\n",
       "      <th>softball</th>\n",
       "      <th>volleyball</th>\n",
       "      <th>swimming</th>\n",
       "      <th>...</th>\n",
       "      <th>blonde</th>\n",
       "      <th>mall</th>\n",
       "      <th>shopping</th>\n",
       "      <th>clothes</th>\n",
       "      <th>hollister</th>\n",
       "      <th>abercrombie</th>\n",
       "      <th>die</th>\n",
       "      <th>death</th>\n",
       "      <th>drunk</th>\n",
       "      <th>drugs</th>\n",
       "    </tr>\n",
       "  </thead>\n",
       "  <tbody>\n",
       "    <tr>\n",
       "      <th>0</th>\n",
       "      <td>2006</td>\n",
       "      <td>M</td>\n",
       "      <td>18.982</td>\n",
       "      <td>7</td>\n",
       "      <td>0</td>\n",
       "      <td>0</td>\n",
       "      <td>0</td>\n",
       "      <td>0</td>\n",
       "      <td>0</td>\n",
       "      <td>0</td>\n",
       "      <td>...</td>\n",
       "      <td>0</td>\n",
       "      <td>0</td>\n",
       "      <td>0</td>\n",
       "      <td>0</td>\n",
       "      <td>0</td>\n",
       "      <td>0</td>\n",
       "      <td>0</td>\n",
       "      <td>0</td>\n",
       "      <td>0</td>\n",
       "      <td>0</td>\n",
       "    </tr>\n",
       "    <tr>\n",
       "      <th>1</th>\n",
       "      <td>2006</td>\n",
       "      <td>F</td>\n",
       "      <td>18.801</td>\n",
       "      <td>0</td>\n",
       "      <td>0</td>\n",
       "      <td>1</td>\n",
       "      <td>0</td>\n",
       "      <td>0</td>\n",
       "      <td>0</td>\n",
       "      <td>0</td>\n",
       "      <td>...</td>\n",
       "      <td>0</td>\n",
       "      <td>1</td>\n",
       "      <td>0</td>\n",
       "      <td>0</td>\n",
       "      <td>0</td>\n",
       "      <td>0</td>\n",
       "      <td>0</td>\n",
       "      <td>0</td>\n",
       "      <td>0</td>\n",
       "      <td>0</td>\n",
       "    </tr>\n",
       "    <tr>\n",
       "      <th>2</th>\n",
       "      <td>2006</td>\n",
       "      <td>M</td>\n",
       "      <td>18.335</td>\n",
       "      <td>69</td>\n",
       "      <td>0</td>\n",
       "      <td>1</td>\n",
       "      <td>0</td>\n",
       "      <td>0</td>\n",
       "      <td>0</td>\n",
       "      <td>0</td>\n",
       "      <td>...</td>\n",
       "      <td>0</td>\n",
       "      <td>0</td>\n",
       "      <td>0</td>\n",
       "      <td>0</td>\n",
       "      <td>0</td>\n",
       "      <td>0</td>\n",
       "      <td>0</td>\n",
       "      <td>1</td>\n",
       "      <td>0</td>\n",
       "      <td>0</td>\n",
       "    </tr>\n",
       "    <tr>\n",
       "      <th>3</th>\n",
       "      <td>2006</td>\n",
       "      <td>F</td>\n",
       "      <td>18.875</td>\n",
       "      <td>0</td>\n",
       "      <td>0</td>\n",
       "      <td>0</td>\n",
       "      <td>0</td>\n",
       "      <td>0</td>\n",
       "      <td>0</td>\n",
       "      <td>0</td>\n",
       "      <td>...</td>\n",
       "      <td>0</td>\n",
       "      <td>0</td>\n",
       "      <td>0</td>\n",
       "      <td>0</td>\n",
       "      <td>0</td>\n",
       "      <td>0</td>\n",
       "      <td>0</td>\n",
       "      <td>0</td>\n",
       "      <td>0</td>\n",
       "      <td>0</td>\n",
       "    </tr>\n",
       "    <tr>\n",
       "      <th>4</th>\n",
       "      <td>2006</td>\n",
       "      <td>NaN</td>\n",
       "      <td>18.995</td>\n",
       "      <td>10</td>\n",
       "      <td>0</td>\n",
       "      <td>0</td>\n",
       "      <td>0</td>\n",
       "      <td>0</td>\n",
       "      <td>0</td>\n",
       "      <td>0</td>\n",
       "      <td>...</td>\n",
       "      <td>0</td>\n",
       "      <td>0</td>\n",
       "      <td>2</td>\n",
       "      <td>0</td>\n",
       "      <td>0</td>\n",
       "      <td>0</td>\n",
       "      <td>0</td>\n",
       "      <td>0</td>\n",
       "      <td>1</td>\n",
       "      <td>1</td>\n",
       "    </tr>\n",
       "  </tbody>\n",
       "</table>\n",
       "<p>5 rows × 40 columns</p>\n",
       "</div>"
      ],
      "text/plain": [
       "   gradyear gender     age  friends  basketball  football  soccer  softball  \\\n",
       "0      2006      M  18.982        7           0         0       0         0   \n",
       "1      2006      F  18.801        0           0         1       0         0   \n",
       "2      2006      M  18.335       69           0         1       0         0   \n",
       "3      2006      F  18.875        0           0         0       0         0   \n",
       "4      2006    NaN  18.995       10           0         0       0         0   \n",
       "\n",
       "   volleyball  swimming  ...    blonde  mall  shopping  clothes  hollister  \\\n",
       "0           0         0  ...         0     0         0        0          0   \n",
       "1           0         0  ...         0     1         0        0          0   \n",
       "2           0         0  ...         0     0         0        0          0   \n",
       "3           0         0  ...         0     0         0        0          0   \n",
       "4           0         0  ...         0     0         2        0          0   \n",
       "\n",
       "   abercrombie  die  death  drunk  drugs  \n",
       "0            0    0      0      0      0  \n",
       "1            0    0      0      0      0  \n",
       "2            0    0      1      0      0  \n",
       "3            0    0      0      0      0  \n",
       "4            0    0      0      1      1  \n",
       "\n",
       "[5 rows x 40 columns]"
      ]
     },
     "execution_count": 145,
     "metadata": {},
     "output_type": "execute_result"
    }
   ],
   "source": [
    "df_sns = pd.read_csv('snsdata.csv', sep=',')\n",
    "df_sns.head()"
   ]
  },
  {
   "cell_type": "markdown",
   "metadata": {},
   "source": [
    "Данные устроены так: \n",
    "* Год выпуска\n",
    "* Пол\n",
    "* Возраст\n",
    "* Количество друзей\n",
    "* 36 ключевых слов, которые встречаются в профилe facebook (интересы, сообщества, встречи)"
   ]
  },
  {
   "cell_type": "markdown",
   "metadata": {},
   "source": [
    "#### Задание 3 (4 балла)\n",
    "\n",
    "* Удалите все признаки кроме 36 ключевых слов.\n",
    "* Нормализуйте данные - из каждого столбца вычтите его среднее значение и поделите на стандартное отклонение.\n",
    "* Используйте метод k-means чтобы выделить 9 кластеров\n",
    "* Попробуйте проинтерпретировать каждый кластер проанализировав полученные центройды (Некоторые кластеры могут быть очень большие и очень маленькие - плохо интерпретируются)"
   ]
  },
  {
   "cell_type": "code",
   "execution_count": 146,
   "metadata": {
    "collapsed": false
   },
   "outputs": [],
   "source": [
    "## Your Code Here\n",
    "from sklearn import preprocessing\n",
    "min_max_scaler = preprocessing.MinMaxScaler()\n",
    "work_data = df_sns.loc[:,df_sns.columns[4:]]\n",
    "work_data_scaled = min_max_scaler.fit_transform(work_data)\n",
    "#work_data_scaled = preprocessing.scale(work_data)\n",
    "\n",
    "    "
   ]
  },
  {
   "cell_type": "code",
   "execution_count": 147,
   "metadata": {
    "collapsed": false
   },
   "outputs": [
    {
     "name": "stderr",
     "output_type": "stream",
     "text": [
      "C:\\Users\\Python\\Anaconda2\\lib\\site-packages\\ipykernel\\__main__.py:28: VisibleDeprecationWarning: using a non-integer number instead of an integer will result in an error in the future\n"
     ]
    },
    {
     "name": "stdout",
     "output_type": "stream",
     "text": [
      "number of iteration: 1\n",
      "number of iteration: 2\n",
      "number of iteration: 3\n",
      "number of iteration: 4\n",
      "number of iteration: 5\n",
      "number of iteration: 6\n",
      "number of iteration: 7\n",
      "number of iteration: 8\n",
      "number of iteration: 9\n",
      "number of iteration: 10\n",
      "number of iteration: 11\n",
      "number of iteration: 12\n",
      "number of iteration: 13\n",
      "number of iteration: 14\n",
      "number of iteration: 15\n",
      "number of iteration: 16\n",
      "number of iteration: 17\n",
      "number of iteration: 18\n",
      "number of iteration: 19\n",
      "number of iteration: 20\n",
      "number of iteration: 21\n",
      "number of iteration: 22\n",
      "number of iteration: 23\n",
      "number of iteration: 24\n",
      "number of iteration: 25\n",
      "number of iteration: 26\n",
      "number of iteration: 27\n",
      "number of iteration: 28\n",
      "number of iteration: 29\n",
      "number of iteration: 30\n",
      "number of iteration: 31\n",
      "number of iteration: 32\n",
      "number of iteration: 33\n",
      "number of iteration: 34\n",
      "number of iteration: 35\n",
      "number of iteration: 36\n",
      "number of iteration: 37\n"
     ]
    }
   ],
   "source": [
    "K = Kmeans(k = 9)\n",
    "K = K.fit(work_data_scaled)\n",
    "work_labels = K.prediction(work_data_scaled)\n"
   ]
  },
  {
   "cell_type": "code",
   "execution_count": 148,
   "metadata": {
    "collapsed": false
   },
   "outputs": [
    {
     "data": {
      "text/plain": [
       "Counter({0.0: 734,\n",
       "         1.0: 5018,\n",
       "         2.0: 15210,\n",
       "         3.0: 542,\n",
       "         4.0: 679,\n",
       "         5.0: 2552,\n",
       "         6.0: 1951,\n",
       "         7.0: 1860,\n",
       "         8.0: 1454})"
      ]
     },
     "execution_count": 148,
     "metadata": {},
     "output_type": "execute_result"
    }
   ],
   "source": [
    "# Количеств элементов в кластере\n",
    "import collections\n",
    "collections.Counter(K.labels)"
   ]
  },
  {
   "cell_type": "code",
   "execution_count": 149,
   "metadata": {
    "collapsed": false
   },
   "outputs": [
    {
     "name": "stdout",
     "output_type": "stream",
     "text": [
      "basketball\n",
      "(0, ' ', 0.023331062670299735)\n",
      "(1, ' ', 0.011317590009299815)\n",
      "(2, ' ', 0.0065609248301556431)\n",
      "(3, ' ', 0.015528905289052909)\n",
      "(4, ' ', 0.018286696121747676)\n",
      "(5, ' ', 0.011788140020898679)\n",
      "(6, ' ', 0.037822484196138713)\n",
      "(7, ' ', 0.011290322580645173)\n",
      "(8, ' ', 0.010144429160935333)\n",
      "football\n",
      "(0, ' ', 0.031880108991825543)\n",
      "(1, ' ', 0.011053540587219498)\n",
      "(2, ' ', 0.0051764190225729121)\n",
      "(3, ' ', 0.024231242312423108)\n",
      "(4, ' ', 0.033873343151693602)\n",
      "(5, ' ', 0.011206896551724108)\n",
      "(6, ' ', 0.1196309584828278)\n",
      "(7, ' ', 0.015017921146953366)\n",
      "(8, ' ', 0.01439706556625398)\n",
      "soccer\n",
      "(0, ' ', 0.0095367847411444318)\n",
      "(1, ' ', 0.011093397103759851)\n",
      "(2, ' ', 0.0060754376993693918)\n",
      "(3, ' ', 0.0094984283176165127)\n",
      "(4, ' ', 0.0099274532264223107)\n",
      "(5, ' ', 0.0081853012887495528)\n",
      "(6, ' ', 0.013896007745315797)\n",
      "(7, ' ', 0.010951812027080845)\n",
      "(8, ' ', 0.0083804574863721899)\n",
      "softball\n",
      "(0, ' ', 0.018512582144574425)\n",
      "(1, ' ', 0.0072796755210653525)\n",
      "(2, ' ', 0.0034613450903043987)\n",
      "(3, ' ', 0.010961580204037324)\n",
      "(4, ' ', 0.012994888677120316)\n",
      "(5, ' ', 0.007468191038170739)\n",
      "(6, ' ', 0.061205415020954966)\n",
      "(7, ' ', 0.0094876660341555782)\n",
      "(8, ' ', 0.0074439679585726849)\n",
      "volleyball\n",
      "(0, ' ', 0.014889061891786678)\n",
      "(1, ' ', 0.010490804532255297)\n",
      "(2, ' ', 0.0039776462853385805)\n",
      "(3, ' ', 0.014628360569319973)\n",
      "(4, ' ', 0.014306753629286755)\n",
      "(5, ' ', 0.007529108822212271)\n",
      "(6, ' ', 0.05938346635425043)\n",
      "(7, ' ', 0.010829493087557611)\n",
      "(8, ' ', 0.0067302023973275652)\n",
      "swimming\n",
      "(0, ' ', 0.0098444229586006782)\n",
      "(1, ' ', 0.0073155993262962755)\n",
      "(2, ' ', 0.0027549786854997602)\n",
      "(3, ' ', 0.0045232710391620015)\n",
      "(4, ' ', 0.0060335407857855438)\n",
      "(5, ' ', 0.0042850642127616719)\n",
      "(6, ' ', 0.0049106330913840819)\n",
      "(7, ' ', 0.0052896288588276281)\n",
      "(8, ' ', 0.0050361627545813517)\n",
      "cheerleading\n",
      "(0, ' ', 0.016954283984256708)\n",
      "(1, ' ', 0.0061999025729595489)\n",
      "(2, ' ', 0.0026517641902257375)\n",
      "(3, ' ', 0.011070110701107007)\n",
      "(4, ' ', 0.3231876943217179)\n",
      "(5, ' ', 0.0044409613375130524)\n",
      "(6, ' ', 0.0067202004669969662)\n",
      "(7, ' ', 0.00764635603345279)\n",
      "(8, ' ', 0.0051199755463854444)\n",
      "baseball\n",
      "(0, ' ', 0.012602179836512262)\n",
      "(1, ' ', 0.0037614587485053806)\n",
      "(2, ' ', 0.0036941157133464826)\n",
      "(3, ' ', 0.004497232472324723)\n",
      "(4, ' ', 0.011413843888070692)\n",
      "(5, ' ', 0.0050695532915360506)\n",
      "(6, ' ', 0.034853921066119939)\n",
      "(7, ' ', 0.0070228494623655914)\n",
      "(8, ' ', 0.0056740027510316371)\n",
      "tennis\n",
      "(0, ' ', 0.0098092643051771126)\n",
      "(1, ' ', 0.0071476019662548148)\n",
      "(2, ' ', 0.0049002849002849191)\n",
      "(3, ' ', 0.0081180811808118161)\n",
      "(4, ' ', 0.0050073637702503721)\n",
      "(5, ' ', 0.0057732497387669741)\n",
      "(6, ' ', 0.0092260379292670343)\n",
      "(7, ' ', 0.0046953405017921132)\n",
      "(8, ' ', 0.0053645116918844592)\n",
      "sports\n",
      "(0, ' ', 0.027588555858310628)\n",
      "(1, ' ', 0.0096818121429520804)\n",
      "(2, ' ', 0.0066403681788296609)\n",
      "(3, ' ', 0.010301353013530131)\n",
      "(4, ' ', 0.013377515954835533)\n",
      "(5, ' ', 0.010416666666666644)\n",
      "(6, ' ', 0.050529642918161415)\n",
      "(7, ' ', 0.0094982078853046593)\n",
      "(8, ' ', 0.015531866116460308)\n",
      "cute\n",
      "(0, ' ', 0.047381168634574769)\n",
      "(1, ' ', 0.023083565829680228)\n",
      "(2, ' ', 0.010208926875593508)\n",
      "(3, ' ', 0.042845428454284573)\n",
      "(4, ' ', 0.030600556373752256)\n",
      "(5, ' ', 0.02444705677464323)\n",
      "(6, ' ', 0.019648043738254031)\n",
      "(7, ' ', 0.028643966547192604)\n",
      "(8, ' ', 0.02353660400427952)\n",
      "sex\n",
      "(0, ' ', 0.0073856302882546986)\n",
      "(1, ' ', 0.0014928712774363191)\n",
      "(2, ' ', 0.0010075319791919086)\n",
      "(3, ' ', 0.0025733152068362808)\n",
      "(4, ' ', 0.0023124822365191357)\n",
      "(5, ' ', 0.0019351867128636589)\n",
      "(6, ' ', 0.0022165870853453435)\n",
      "(7, ' ', 0.0023816261082814506)\n",
      "(8, ' ', 0.0070223702309418837)\n",
      "sexy\n",
      "(0, ' ', 0.015970330003027521)\n",
      "(1, ' ', 0.0075063106151189683)\n",
      "(2, ' ', 0.0054861567682081419)\n",
      "(3, ' ', 0.012300123001230002)\n",
      "(4, ' ', 0.011045655375552263)\n",
      "(5, ' ', 0.0089472309299895754)\n",
      "(6, ' ', 0.0087419556922375859)\n",
      "(7, ' ', 0.015292712066905672)\n",
      "(8, ' ', 0.013755158184319124)\n",
      "hot\n",
      "(0, ' ', 0.025885558583106247)\n",
      "(1, ' ', 0.0036269430051813455)\n",
      "(2, ' ', 0.0)\n",
      "(3, ' ', 0.018265682656826557)\n",
      "(4, ' ', 0.021502209131075086)\n",
      "(5, ' ', 0.0060344827586206774)\n",
      "(6, ' ', 0.0062019477191183892)\n",
      "(7, ' ', 0.14806451612903021)\n",
      "(8, ' ', 0.010453920220082508)\n",
      "kissed\n",
      "(0, ' ', 0.025990358415426535)\n",
      "(1, ' ', 0.0029125915933408894)\n",
      "(2, ' ', 0.001777676629747652)\n",
      "(3, ' ', 0.0075219982969060451)\n",
      "(4, ' ', 0.0062875269060836056)\n",
      "(5, ' ', 0.0045514829997588529)\n",
      "(6, ' ', 0.0043961676457832232)\n",
      "(7, ' ', 0.0041563275434243104)\n",
      "(8, ' ', 0.015183578457306154)\n",
      "dance\n",
      "(0, ' ', 0.029518619436875608)\n",
      "(1, ' ', 0.017908861432177375)\n",
      "(2, ' ', 0.0096559281174663746)\n",
      "(3, ' ', 0.032718327183271799)\n",
      "(4, ' ', 0.02199312714776628)\n",
      "(5, ' ', 0.016209508881922751)\n",
      "(6, ' ', 0.01619682214249113)\n",
      "(7, ' ', 0.019014336917562845)\n",
      "(8, ' ', 0.017721228794131204)\n",
      "band\n",
      "(0, ' ', 0.0084014532243415208)\n",
      "(1, ' ', 0.0041788953706052663)\n",
      "(2, ' ', 0.0041001733309426417)\n",
      "(3, ' ', 0.0080509896008050964)\n",
      "(4, ' ', 0.0038827152229214063)\n",
      "(5, ' ', 0.0043637788543744978)\n",
      "(6, ' ', 0.0056381342901076735)\n",
      "(7, ' ', 0.0045047246660150139)\n",
      "(8, ' ', 0.006304447501146301)\n",
      "marching\n",
      "(0, ' ', 0.0070596977953926157)\n",
      "(1, ' ', 0.0035689698902134164)\n",
      "(2, ' ', 0.0036997190843344866)\n",
      "(3, ' ', 0.004025494800402549)\n",
      "(4, ' ', 0.0022760744410228943)\n",
      "(5, ' ', 0.0030991735537190066)\n",
      "(6, ' ', 0.0046130189646335223)\n",
      "(7, ' ', 0.0030791788856304966)\n",
      "(8, ' ', 0.003438789546079778)\n",
      "music\n",
      "(0, ' ', 0.025864271117166212)\n",
      "(1, ' ', 0.013544988043045037)\n",
      "(2, ' ', 0.0093010355029585802)\n",
      "(3, ' ', 0.015163745387453874)\n",
      "(4, ' ', 0.011367820324005891)\n",
      "(5, ' ', 0.011577929075235111)\n",
      "(6, ' ', 0.012918054843669913)\n",
      "(7, ' ', 0.013180443548387096)\n",
      "(8, ' ', 0.015291867262723521)\n",
      "rock\n",
      "(0, ' ', 0.029323991176852152)\n",
      "(1, ' ', 0.010571466530015894)\n",
      "(2, ' ', 0.0087160702545320649)\n",
      "(3, ' ', 0.017132314180284641)\n",
      "(4, ' ', 0.016480819131776396)\n",
      "(5, ' ', 0.013248246006866683)\n",
      "(6, ' ', 0.017378145517561186)\n",
      "(7, ' ', 0.01472094214029694)\n",
      "(8, ' ', 0.017128446977140194)\n",
      "god\n",
      "(0, ' ', 0.0092263649846514931)\n",
      "(1, ' ', 0.0058800974718858428)\n",
      "(2, ' ', 0.0050957481337227193)\n",
      "(3, ' ', 0.0073567191368116352)\n",
      "(4, ' ', 0.0076993344643090352)\n",
      "(5, ' ', 0.0056247767945716677)\n",
      "(6, ' ', 0.0070719981314353846)\n",
      "(7, ' ', 0.0068395263372805484)\n",
      "(8, ' ', 0.008818971671338811)\n",
      "church\n",
      "(0, ' ', 0.012106762447361913)\n",
      "(1, ' ', 0.0073825138591978737)\n",
      "(2, ' ', 0.0037908672524057784)\n",
      "(3, ' ', 0.010105669238510572)\n",
      "(4, ' ', 0.0081336189583612328)\n",
      "(5, ' ', 0.0070265745226560641)\n",
      "(6, ' ', 0.0082591677927403469)\n",
      "(7, ' ', 0.0066104594330400977)\n",
      "(8, ' ', 0.0056896336126047321)\n",
      "jesus\n",
      "(0, ' ', 0.00449591280653951)\n",
      "(1, ' ', 0.0040122226650724235)\n",
      "(2, ' ', 0.0033662064431295232)\n",
      "(3, ' ', 0.0043665436654366559)\n",
      "(4, ' ', 0.0038291605301914587)\n",
      "(5, ' ', 0.0039315569487983221)\n",
      "(6, ' ', 0.0050401503502477286)\n",
      "(7, ' ', 0.0037634408602150475)\n",
      "(8, ' ', 0.0038514442916093516)\n",
      "bible\n",
      "(0, ' ', 0.0027247956403269741)\n",
      "(1, ' ', 0.0020290590238776786)\n",
      "(2, ' ', 0.0017751479289940812)\n",
      "(3, ' ', 0.0021804763502180475)\n",
      "(4, ' ', 0.0024099611728477703)\n",
      "(5, ' ', 0.0011399259048161866)\n",
      "(6, ' ', 0.0025161921625273739)\n",
      "(7, ' ', 0.0023460410557184746)\n",
      "(8, ' ', 0.0027510316368638227)\n",
      "hair\n",
      "(0, ' ', 0.057883496575594606)\n",
      "(1, ' ', 0.011526073702239382)\n",
      "(2, ' ', 0.0057181441796826564)\n",
      "(3, ' ', 0.026628104118879)\n",
      "(4, ' ', 0.016200294550810006)\n",
      "(5, ' ', 0.015155045327459093)\n",
      "(6, ' ', 0.012135148988044945)\n",
      "(7, ' ', 0.014080209241499601)\n",
      "(8, ' ', 0.028439718948659681)\n",
      "dress\n",
      "(0, ' ', 0.031486527399333865)\n",
      "(1, ' ', 0.0086798636021434405)\n",
      "(2, ' ', 0.004156622105340106)\n",
      "(3, ' ', 0.29233292332923555)\n",
      "(4, ' ', 0.012927507772868581)\n",
      "(5, ' ', 0.0092302333681643766)\n",
      "(6, ' ', 0.0076883649410558509)\n",
      "(7, ' ', 0.0077658303464754885)\n",
      "(8, ' ', 0.013602323093382204)\n",
      "blonde\n",
      "(0, ' ', 0.0010540876100959115)\n",
      "(1, ' ', 0.00029130603832319777)\n",
      "(2, ' ', 0.00012666702857246187)\n",
      "(3, ' ', 0.00037238904499136717)\n",
      "(4, ' ', 0.00085122481793247016)\n",
      "(5, ' ', 0.00032114885009538671)\n",
      "(6, ' ', 0.00045926420544941348)\n",
      "(7, ' ', 0.00036664364867975476)\n",
      "(8, ' ', 0.001194637591543308)\n",
      "mall\n",
      "(0, ' ', 0.056198910081743908)\n",
      "(1, ' ', 0.019728975687524759)\n",
      "(2, ' ', 0.0)\n",
      "(3, ' ', 0.045510455104551012)\n",
      "(4, ' ', 0.033873343151693623)\n",
      "(5, ' ', 0.14073928944618522)\n",
      "(6, ' ', 0.014180762002391897)\n",
      "(7, ' ', 0.019982078853046571)\n",
      "(8, ' ', 0.02166437414030252)\n",
      "shopping\n",
      "(0, ' ', 0.081991577904384647)\n",
      "(1, ' ', 0.12902641400050316)\n",
      "(2, ' ', 0.0)\n",
      "(3, ' ', 0.07396846695739695)\n",
      "(4, ' ', 0.065068951666889988)\n",
      "(5, ' ', 0.015424622399544048)\n",
      "(6, ' ', 0.020781883416429857)\n",
      "(7, ' ', 0.029325513196481169)\n",
      "(8, ' ', 0.025009378516943861)\n",
      "clothes\n",
      "(0, ' ', 0.2893392370572207)\n",
      "(1, ' ', 0.018807293742526904)\n",
      "(2, ' ', 0.0058514135437212362)\n",
      "(3, ' ', 0.028828413284132843)\n",
      "(4, ' ', 0.023011782032400591)\n",
      "(5, ' ', 0.01748628526645768)\n",
      "(6, ' ', 0.01460789338800615)\n",
      "(7, ' ', 0.015860215053763442)\n",
      "(8, ' ', 0.018741403026134799)\n",
      "hollister\n",
      "(0, ' ', 0.041023312140478267)\n",
      "(1, ' ', 0.013418360568619725)\n",
      "(2, ' ', 0.0026225436481846802)\n",
      "(3, ' ', 0.011685116851168503)\n",
      "(4, ' ', 0.021600392734413314)\n",
      "(5, ' ', 0.010667014977359779)\n",
      "(6, ' ', 0.0063215445070903698)\n",
      "(7, ' ', 0.011887694145758639)\n",
      "(8, ' ', 0.008864435274338972)\n",
      "abercrombie\n",
      "(0, ' ', 0.029291553133514985)\n",
      "(1, ' ', 0.010985452371462734)\n",
      "(2, ' ', 0.0022435897435897434)\n",
      "(3, ' ', 0.010608856088560886)\n",
      "(4, ' ', 0.019145802650957292)\n",
      "(5, ' ', 0.0087186520376175553)\n",
      "(6, ' ', 0.0058303434136340341)\n",
      "(7, ' ', 0.0092069892473118278)\n",
      "(8, ' ', 0.0079951856946354882)\n",
      "die\n",
      "(0, ' ', 0.023780034679217257)\n",
      "(1, ' ', 0.0074640385521215274)\n",
      "(2, ' ', 0.0064999103460643077)\n",
      "(3, ' ', 0.012495806776249598)\n",
      "(4, ' ', 0.0086356942027045226)\n",
      "(5, ' ', 0.0095825021373611152)\n",
      "(6, ' ', 0.0072457015050556807)\n",
      "(7, ' ', 0.0087976539589442754)\n",
      "(8, ' ', 0.020413905214455526)\n",
      "death\n",
      "(0, ' ', 0.018976255352277122)\n",
      "(1, ' ', 0.0079855377782839052)\n",
      "(2, ' ', 0.0066027989104911382)\n",
      "(3, ' ', 0.014101212440695829)\n",
      "(4, ' ', 0.0086261308647170194)\n",
      "(5, ' ', 0.0091244961934617338)\n",
      "(6, ' ', 0.0080178662956725336)\n",
      "(7, ' ', 0.0082949308755760204)\n",
      "(8, ' ', 0.015474552957359037)\n",
      "drunk\n",
      "(0, ' ', 0.024863760217983651)\n",
      "(1, ' ', 0.0020426464726982863)\n",
      "(2, ' ', 0.0)\n",
      "(3, ' ', 0.01014760147601476)\n",
      "(4, ' ', 0.0095729013254786458)\n",
      "(5, ' ', 0.0040164576802507838)\n",
      "(6, ' ', 0.0037801127626858021)\n",
      "(7, ' ', 0.0036290322580645163)\n",
      "(8, ' ', 0.18225584594222832)\n",
      "drugs\n",
      "(0, ' ', 0.016433923705722071)\n",
      "(1, ' ', 0.0025533080908728576)\n",
      "(2, ' ', 0.0018696581196581197)\n",
      "(3, ' ', 0.0063422509225092251)\n",
      "(4, ' ', 0.004418262150220913)\n",
      "(5, ' ', 0.0041389106583072099)\n",
      "(6, ' ', 0.0040043567401332652)\n",
      "(7, ' ', 0.0032594086021505374)\n",
      "(8, ' ', 0.020030949105914717)\n"
     ]
    }
   ],
   "source": [
    "# Координаты центроидов.\n",
    "for i in range(len(work_data.columns)):\n",
    "    print((work_data.columns[i]))\n",
    "    for j in range(9):\n",
    "        print(j, \" \", K.centroids[j][i])"
   ]
  },
  {
   "cell_type": "code",
   "execution_count": 150,
   "metadata": {
    "collapsed": false
   },
   "outputs": [
    {
     "name": "stdout",
     "output_type": "stream",
     "text": [
      "(0, ' _____________')\n",
      "(0.0098092643051771126, ' ', 'tennis')\n",
      "(0.0070596977953926157, ' ', 'marching')\n",
      "(0.0027247956403269741, ' ', 'bible')\n",
      "(0.0010540876100959115, ' ', 'blonde')\n",
      "(0.2893392370572207, ' ', 'clothes')\n",
      "(0.041023312140478267, ' ', 'hollister')\n",
      "(0.029291553133514985, ' ', 'abercrombie')\n",
      "(0.016433923705722071, ' ', 'drugs')\n",
      "(1, ' _____________')\n",
      "(0.0035689698902134164, ' ', 'marching')\n",
      "(0.0020290590238776786, ' ', 'bible')\n",
      "(0.00029130603832319777, ' ', 'blonde')\n",
      "(0.010985452371462734, ' ', 'abercrombie')\n",
      "(2, ' _____________')\n",
      "(0.0036997190843344866, ' ', 'marching')\n",
      "(0.0017751479289940812, ' ', 'bible')\n",
      "(0.00012666702857246187, ' ', 'blonde')\n",
      "(3, ' _____________')\n",
      "(0.004025494800402549, ' ', 'marching')\n",
      "(0.0021804763502180475, ' ', 'bible')\n",
      "(0.29233292332923555, ' ', 'dress')\n",
      "(0.00037238904499136717, ' ', 'blonde')\n",
      "(0.010608856088560886, ' ', 'abercrombie')\n",
      "(4, ' _____________')\n",
      "(0.3231876943217179, ' ', 'cheerleading')\n",
      "(0.0022760744410228943, ' ', 'marching')\n",
      "(0.0024099611728477703, ' ', 'bible')\n",
      "(0.00085122481793247016, ' ', 'blonde')\n",
      "(0.021600392734413314, ' ', 'hollister')\n",
      "(0.019145802650957292, ' ', 'abercrombie')\n",
      "(5, ' _____________')\n",
      "(0.0030991735537190066, ' ', 'marching')\n",
      "(0.0011399259048161866, ' ', 'bible')\n",
      "(0.00032114885009538671, ' ', 'blonde')\n",
      "(6, ' _____________')\n",
      "(0.061205415020954966, ' ', 'softball')\n",
      "(0.05938346635425043, ' ', 'volleyball')\n",
      "(0.034853921066119939, ' ', 'baseball')\n",
      "(0.0046130189646335223, ' ', 'marching')\n",
      "(0.0025161921625273739, ' ', 'bible')\n",
      "(0.00045926420544941348, ' ', 'blonde')\n",
      "(7, ' _____________')\n",
      "(0.14806451612903021, ' ', 'hot')\n",
      "(0.0030791788856304966, ' ', 'marching')\n",
      "(0.0023460410557184746, ' ', 'bible')\n",
      "(0.00036664364867975476, ' ', 'blonde')\n",
      "(8, ' _____________')\n",
      "(0.003438789546079778, ' ', 'marching')\n",
      "(0.0027510316368638227, ' ', 'bible')\n",
      "(0.001194637591543308, ' ', 'blonde')\n",
      "(0.18225584594222832, ' ', 'drunk')\n",
      "(0.020030949105914717, ' ', 'drugs')\n"
     ]
    }
   ],
   "source": [
    "for i in range(9):\n",
    "    print(i, \" _____________\")\n",
    "    for j in range(len(work_data.columns)):\n",
    "        if (K.centroids[i][j] > work_data[work_data.columns[j]].mean() - 0.15* work_data[work_data.columns[j]].std()):\n",
    "            print(K.centroids[i][j], \" \", work_data.columns[j])"
   ]
  },
  {
   "cell_type": "markdown",
   "metadata": {},
   "source": [
    "Анализ кластеров.\n",
    "\n",
    "1ый кластер - потребители, любят одежду, фастфуд и наркотики,\n",
    "2ой кластер - аберкромби,\n",
    "3ий кластер - нет явных признаков\n",
    "4ий кластер - девушки (есть dress),\n",
    "5ый кластер - черлидерши,\n",
    "6ый кластер - нет явных признаков\n",
    "7ый кластер - спортсмены\n",
    "8ой кластер - девушки (есть hot)\n",
    "9ой кластер - тусовщики(алкоголь и наркотики)"
   ]
  }
 ],
 "metadata": {
  "anaconda-cloud": {},
  "kernelspec": {
   "display_name": "Python [conda root]",
   "language": "python",
   "name": "conda-root-py"
  },
  "language_info": {
   "codemirror_mode": {
    "name": "ipython",
    "version": 2
   },
   "file_extension": ".py",
   "mimetype": "text/x-python",
   "name": "python",
   "nbconvert_exporter": "python",
   "pygments_lexer": "ipython2",
   "version": "2.7.12"
  },
  "nav_menu": {},
  "toc": {
   "navigate_menu": true,
   "number_sections": false,
   "sideBar": true,
   "threshold": 6,
   "toc_cell": false,
   "toc_section_display": "block",
   "toc_window_display": true
  }
 },
 "nbformat": 4,
 "nbformat_minor": 2
}
